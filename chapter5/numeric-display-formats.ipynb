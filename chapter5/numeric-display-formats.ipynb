{
 "cells": [
  {
   "cell_type": "code",
   "execution_count": 1,
   "id": "ffc43822",
   "metadata": {},
   "outputs": [
    {
     "data": {
      "text/plain": [
       "3.3000000000000003"
      ]
     },
     "execution_count": 1,
     "metadata": {},
     "output_type": "execute_result"
    }
   ],
   "source": [
    "1.1 + 2.2"
   ]
  },
  {
   "cell_type": "code",
   "execution_count": 3,
   "id": "8600f2d7",
   "metadata": {},
   "outputs": [
    {
     "data": {
      "text/plain": [
       "'3.300000e+00'"
      ]
     },
     "execution_count": 3,
     "metadata": {},
     "output_type": "execute_result"
    }
   ],
   "source": [
    "num = 1.1 + 2.2\n",
    "'%e' % num"
   ]
  },
  {
   "cell_type": "code",
   "execution_count": 4,
   "id": "990c23f1",
   "metadata": {},
   "outputs": [
    {
     "data": {
      "text/plain": [
       "'3.3'"
      ]
     },
     "execution_count": 4,
     "metadata": {},
     "output_type": "execute_result"
    }
   ],
   "source": [
    "'%.1f' % num"
   ]
  },
  {
   "cell_type": "code",
   "execution_count": 5,
   "id": "3338d8ff",
   "metadata": {},
   "outputs": [
    {
     "data": {
      "text/plain": [
       "('3.300000e+00', '3.3')"
      ]
     },
     "execution_count": 5,
     "metadata": {},
     "output_type": "execute_result"
    }
   ],
   "source": [
    "f'{num:e}', f'{num:.1f}'"
   ]
  }
 ],
 "metadata": {
  "kernelspec": {
   "display_name": "Python 3",
   "language": "python",
   "name": "python3"
  },
  "language_info": {
   "codemirror_mode": {
    "name": "ipython",
    "version": 3
   },
   "file_extension": ".py",
   "mimetype": "text/x-python",
   "name": "python",
   "nbconvert_exporter": "python",
   "pygments_lexer": "ipython3",
   "version": "3.12.4"
  }
 },
 "nbformat": 4,
 "nbformat_minor": 5
}
